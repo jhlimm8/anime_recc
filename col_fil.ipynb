{
 "cells": [
  {
   "cell_type": "markdown",
   "metadata": {},
   "source": [
    "Collaborative Filtering incorporates the intersection of item and user information into the generation of recommendations. In this notebook, we go through an Item-Item, neighbourhood based model and a Matrix Factorization model. Both models are used to generate predictions of a user's rating on an unseen anime. Recommendations are then made by sorting the predicted rating from highest to lowest."
   ]
  },
  {
   "cell_type": "markdown",
   "metadata": {},
   "source": [
    "## Load Data"
   ]
  },
  {
   "cell_type": "markdown",
   "metadata": {},
   "source": [
    "The dataset is the users-score-2023.csv file from https://www.kaggle.com/datasets/dbdmobile/myanimelist-dataset/"
   ]
  },
  {
   "cell_type": "code",
   "execution_count": 4,
   "metadata": {},
   "outputs": [],
   "source": [
    "import pandas as pd\n",
    "\n",
    "ratings = pd.read_csv('users-score-2023.csv')"
   ]
  },
  {
   "cell_type": "code",
   "execution_count": 5,
   "metadata": {},
   "outputs": [
    {
     "data": {
      "text/html": [
       "<div>\n",
       "<style scoped>\n",
       "    .dataframe tbody tr th:only-of-type {\n",
       "        vertical-align: middle;\n",
       "    }\n",
       "\n",
       "    .dataframe tbody tr th {\n",
       "        vertical-align: top;\n",
       "    }\n",
       "\n",
       "    .dataframe thead th {\n",
       "        text-align: right;\n",
       "    }\n",
       "</style>\n",
       "<table border=\"1\" class=\"dataframe\">\n",
       "  <thead>\n",
       "    <tr style=\"text-align: right;\">\n",
       "      <th></th>\n",
       "      <th>user_id</th>\n",
       "      <th>Username</th>\n",
       "      <th>anime_id</th>\n",
       "      <th>Anime Title</th>\n",
       "      <th>rating</th>\n",
       "    </tr>\n",
       "  </thead>\n",
       "  <tbody>\n",
       "    <tr>\n",
       "      <th>0</th>\n",
       "      <td>1</td>\n",
       "      <td>Xinil</td>\n",
       "      <td>21</td>\n",
       "      <td>One Piece</td>\n",
       "      <td>9</td>\n",
       "    </tr>\n",
       "    <tr>\n",
       "      <th>1</th>\n",
       "      <td>1</td>\n",
       "      <td>Xinil</td>\n",
       "      <td>48</td>\n",
       "      <td>.hack//Sign</td>\n",
       "      <td>7</td>\n",
       "    </tr>\n",
       "    <tr>\n",
       "      <th>2</th>\n",
       "      <td>1</td>\n",
       "      <td>Xinil</td>\n",
       "      <td>320</td>\n",
       "      <td>A Kite</td>\n",
       "      <td>5</td>\n",
       "    </tr>\n",
       "    <tr>\n",
       "      <th>3</th>\n",
       "      <td>1</td>\n",
       "      <td>Xinil</td>\n",
       "      <td>49</td>\n",
       "      <td>Aa! Megami-sama!</td>\n",
       "      <td>8</td>\n",
       "    </tr>\n",
       "    <tr>\n",
       "      <th>4</th>\n",
       "      <td>1</td>\n",
       "      <td>Xinil</td>\n",
       "      <td>304</td>\n",
       "      <td>Aa! Megami-sama! Movie</td>\n",
       "      <td>8</td>\n",
       "    </tr>\n",
       "  </tbody>\n",
       "</table>\n",
       "</div>"
      ],
      "text/plain": [
       "   user_id Username  anime_id             Anime Title  rating\n",
       "0        1    Xinil        21               One Piece       9\n",
       "1        1    Xinil        48             .hack//Sign       7\n",
       "2        1    Xinil       320                  A Kite       5\n",
       "3        1    Xinil        49        Aa! Megami-sama!       8\n",
       "4        1    Xinil       304  Aa! Megami-sama! Movie       8"
      ]
     },
     "execution_count": 5,
     "metadata": {},
     "output_type": "execute_result"
    }
   ],
   "source": [
    "ratings.head()"
   ]
  },
  {
   "cell_type": "markdown",
   "metadata": {},
   "source": [
    "## Item-item collaborative filtering"
   ]
  },
  {
   "cell_type": "markdown",
   "metadata": {},
   "source": [
    " Predict the rating of an anime that a user has not rated by using the similarities between the user's rated anime and the current anime to be rated."
   ]
  },
  {
   "cell_type": "markdown",
   "metadata": {},
   "source": [
    "First, to find the similarity between anime we treat each column of ratings for each anime as its feature vector, and compute similarity based on similar feature vectors."
   ]
  },
  {
   "cell_type": "code",
   "execution_count": 6,
   "metadata": {},
   "outputs": [],
   "source": [
    "import numpy as np\n",
    "\n",
    "def get_similarity(anime1, anime2, ratings):\n",
    "    # Filter the ratings for each anime\n",
    "    anime1_ratings = ratings[ratings['Anime Title'] == anime1]\n",
    "    anime2_ratings = ratings[ratings['Anime Title'] == anime2]\n",
    "\n",
    "    # Use the intercept from inner merge to find ratings by users who rated both anime\n",
    "    shared_ratings = pd.merge(anime1_ratings, anime2_ratings, how = 'inner', on='user_id', suffixes=('_anime1', '_anime2'))\n",
    "    #print(shared_ratings.head())\n",
    "\n",
    "    # Extract the shared ratings for each anime\n",
    "    anime1_sharedratings = shared_ratings['rating_anime1']\n",
    "    anime2_sharedratings = shared_ratings['rating_anime2']\n",
    "\n",
    "    if anime1_sharedratings.empty or anime2_sharedratings.empty:\n",
    "        cosine_similarity = 0\n",
    "    else:\n",
    "        cosine_similarity = np.dot(anime1_sharedratings, anime2_sharedratings) / (np.linalg.norm(anime1_sharedratings) * np.linalg.norm(anime2_sharedratings))\n",
    "    return cosine_similarity"
   ]
  },
  {
   "cell_type": "code",
   "execution_count": 7,
   "metadata": {},
   "outputs": [
    {
     "data": {
      "text/plain": [
       "[('One Piece', 1.0),\n",
       " ('Jujutsu Kaisen', 0.9817785028531196),\n",
       " ('Love Hina', 0.9649159213317992)]"
      ]
     },
     "execution_count": 7,
     "metadata": {},
     "output_type": "execute_result"
    }
   ],
   "source": [
    "anime = ['One Piece', 'Love Hina', 'Jujutsu Kaisen']\n",
    "\n",
    "similarities = {}\n",
    "\n",
    "for ani in anime:\n",
    "    similarities[ani] = get_similarity(anime[0], ani, ratings)\n",
    "\n",
    "sorted_anime = sorted(similarities.items(), key=lambda x: x[1], reverse=True)\n",
    "sorted_anime"
   ]
  },
  {
   "cell_type": "markdown",
   "metadata": {},
   "source": [
    "While the similarity scores are all relatively high, One Piece is expectedly calculated as more similar to Jujutsu Kaisen than Love Hina."
   ]
  },
  {
   "cell_type": "markdown",
   "metadata": {},
   "source": [
    "Now, we predict the rating of the unrated anime via a similarity weighted average of the user's rated anime"
   ]
  },
  {
   "cell_type": "code",
   "execution_count": 8,
   "metadata": {},
   "outputs": [],
   "source": [
    "def item_item_recommender(user_id, n_recs, n_items, ratings):\n",
    "    np.random.seed(42)\n",
    "\n",
    "    user_ratings = ratings[ratings['user_id'] == user_id]\n",
    "    anime_rated = user_ratings['Anime Title'].unique()\n",
    "    anime_not_rated = ratings[-ratings['Anime Title'].isin(anime_rated)]['Anime Title'].unique()\n",
    "    user_ratings = user_ratings.sample(n_items, replace=False, random_state=42) # how many neighbors to use\n",
    "    anime_rated = user_ratings['Anime Title'].unique()\n",
    "    anime_ratings = user_ratings['rating']\n",
    "    recs = np.random.choice(anime_not_rated, n_recs, replace=False) # how many recommendations to make\n",
    "    \n",
    "\n",
    "    predicted_ratings = []\n",
    "\n",
    "    for rec in recs:\n",
    "        similarities = []\n",
    "        for ani in anime_rated:\n",
    "            similarities.append(get_similarity(rec, ani, ratings))\n",
    "        \n",
    "        similarities = np.array(similarities)\n",
    "        anime_ratings = np.array(anime_ratings)\n",
    "        # print(similarities, anime_ratings)\n",
    "        predicted_ratings.append(np.dot(similarities, anime_ratings) / np.sum(similarities))\n",
    "\n",
    "    sorted_recs_with_pred_ratings = sorted(dict(zip(recs, predicted_ratings)).items(), key=lambda x: x[1], reverse=True)\n",
    "\n",
    "    return sorted_recs_with_pred_ratings"
   ]
  },
  {
   "cell_type": "code",
   "execution_count": 9,
   "metadata": {},
   "outputs": [
    {
     "data": {
      "text/plain": [
       "[('Fast Week', 7.6),\n",
       " ('Ookami Shounen Ken', 7.503787451358199),\n",
       " ('Tetsujin 28-gou: Hakuchuu no Zangetsu', 7.351326865114048),\n",
       " ('Onikiri Shoujo', 7.333333333333333),\n",
       " ('Go-Q-Choji Ikkiman', 7.329837014167806),\n",
       " ('Nineko Gelée', 7.253828290173994),\n",
       " ('Ekaki Uta', 7.25),\n",
       " ('Inuyashiki', 7.103799456978764),\n",
       " ('Tennis no Ouji-sama: Zenkoku Taikai-hen - Semifinal', 7.1025417965318525),\n",
       " ('High School DxD Hero: Taiikukan-ura no Holy', 7.101989350212257),\n",
       " ('Mahouka Koukou no Rettousei', 7.100164554761387),\n",
       " ('Blue Dragon', 7.098669893105704),\n",
       " ('Escha & Logy no Atelier: Tasogare no Sora no Renkinjutsushi',\n",
       "  7.098415229806498),\n",
       " ('Saint Seiya: Kamigami no Atsuki Tatakai', 7.098284530886654),\n",
       " ('Doubutsu Tonarigumi', 7.097925087738627),\n",
       " ('Di Gi Charat Summer Special 2000', 7.097398693962211),\n",
       " ('Peter Grill to Kenja no Jikan', 7.0941255356444515),\n",
       " ('Anata mo Robot ni Nareru feat. Kamome Jidou Gasshoudan', 7.093156937105979),\n",
       " ('Ninkuu (Movie)', 7.0926872968613415),\n",
       " ('A.LI.CE', 7.083249876189047)]"
      ]
     },
     "execution_count": 9,
     "metadata": {},
     "output_type": "execute_result"
    }
   ],
   "source": [
    "animerecs = item_item_recommender(1, 20, 20, ratings)\n",
    "animerecs"
   ]
  },
  {
   "cell_type": "markdown",
   "metadata": {},
   "source": [
    "^ notice how the more obscure anime are rated higher? its prob not because the user actually has such esoteric preferences, but rather due to the item-item method being heavily affected by sparsity. We can plot the frequency of ratings for each anime to verify this."
   ]
  },
  {
   "cell_type": "code",
   "execution_count": 10,
   "metadata": {},
   "outputs": [
    {
     "data": {
      "image/png": "[encoded data removed]",
      "text/plain": [
       "<Figure size 432x288 with 1 Axes>"
      ]
     },
     "metadata": {
      "needs_background": "light"
     },
     "output_type": "display_data"
    }
   ],
   "source": [
    "import matplotlib.pyplot as plt\n",
    "\n",
    "plt.bar(range(len(ratings['anime_id'].value_counts())), ratings['anime_id'].value_counts().values, width=1.0)\n",
    "plt.xlabel('Sorted Anime')\n",
    "plt.ylabel('Frequency')\n",
    "plt.title('Histogram of number of ratings per anime')\n",
    "plt.show()"
   ]
  },
  {
   "cell_type": "markdown",
   "metadata": {},
   "source": [
    "We see that more than half of the anime have frequencies so low, they dont even appear on the graph! This suggests a concerning level of sparsity which could affect similarity calculations from the lack of information. As a heuristic, we can filter out the anime that are less frequent than some arbitrary level, which here we take as the median — 83 ratings. For the remaining 50% of less frequent anime, perhaps a content-based recommender system would be more suitable."
   ]
  },
  {
   "cell_type": "code",
   "execution_count": 11,
   "metadata": {},
   "outputs": [],
   "source": [
    "ratings = ratings.groupby('anime_id').filter(lambda x: len(x) >= 83)"
   ]
  },
  {
   "cell_type": "code",
   "execution_count": 12,
   "metadata": {},
   "outputs": [
    {
     "data": {
      "text/plain": [
       "[('Shin Mitsubachi Maya no Bouken', 7.284355453637447),\n",
       " ('Mazinkaiser: Shitou! Ankoku Dai Shogun', 7.106541181024469),\n",
       " ('Shokugeki no Souma: Gou no Sara', 7.1059049039782645),\n",
       " ('Hana yori Dango', 7.105850859414536),\n",
       " ('Fella Hame Lips', 7.103646210302796),\n",
       " ('Koi wa Sekai Seifuku no Ato de', 7.103385289012879),\n",
       " ('Bleach: The Sealed Sword Frenzy', 7.1022375656703804),\n",
       " ('Maid of the Dead', 7.101680295211591),\n",
       " ('Shin Getter Robo tai Neo Getter Robo', 7.101138788053717),\n",
       " ('Survival', 7.099624436027016),\n",
       " ('City Hunter: Kinkyuu Namachuukei!? Kyouakuhan Saeba Ryou no Saigo',\n",
       "  7.099583126820753),\n",
       " ('Akebi no Hana: Maho', 7.0995083421604),\n",
       " ('Konnichiwa Anne: Before Green Gables', 7.098420168817938),\n",
       " ('Narue no Sekai', 7.097936247161032),\n",
       " ('Heartwork: Symphony of Destruction', 7.096767968098375),\n",
       " ('Penguin Musume♥Heart', 7.096234808488256),\n",
       " ('Rokumon Tengai Mon Colle Knights', 7.093737043605895),\n",
       " ('Yume no Kakera', 7.093435026905165),\n",
       " ('Transformers Superlink', 7.091378529178498),\n",
       " ('Vampire', 7.090169965466114)]"
      ]
     },
     "execution_count": 12,
     "metadata": {},
     "output_type": "execute_result"
    }
   ],
   "source": [
    "animerecs = item_item_recommender(1, 20, 20, ratings)\n",
    "animerecs"
   ]
  },
  {
   "cell_type": "markdown",
   "metadata": {},
   "source": [
    "Other than the first recommendation(idk wtf happened there), it seems that user 1 likes shounen anime more than female-protagonist anime, and hence has a taste similar to that of a male teenager."
   ]
  },
  {
   "cell_type": "markdown",
   "metadata": {},
   "source": [
    "## Matrix Factorization"
   ]
  },
  {
   "cell_type": "markdown",
   "metadata": {},
   "source": [
    "Find a lower-dimensional embedding for users and animes such that the scaled(here sigmoid) dot product of a pair of (user,anime) embeddings, is close to the actual rating of the user for that anime. The learnt embeddings can then be used to approximate the ratings of users for unrated anime. To quote Simon Funk for intuition behind why this would work,\n",
    "\n",
    "\"If meaningful generalities can help you represent your data with fewer numbers, finding a way to represent your data in fewer numbers can often help you find meaningful generalities. Compression is akin to understanding and all that.\"\n",
    "\n",
    "which is an idea that is relatively prominent in ML."
   ]
  },
  {
   "cell_type": "markdown",
   "metadata": {},
   "source": [
    "Before we start the modeling, interestingly we see that for whatever reason the authors of the dataset skipped certain integers when assigning user_id and anime_id values. e.g. there is anime with anime_id 1,5,6 but no anime with anime_id 2,3,4. "
   ]
  },
  {
   "cell_type": "code",
   "execution_count": 13,
   "metadata": {},
   "outputs": [
    {
     "data": {
      "text/plain": [
       "array([    1,     5,     6, ..., 55016, 55351, 55818], dtype=int64)"
      ]
     },
     "execution_count": 13,
     "metadata": {},
     "output_type": "execute_result"
    }
   ],
   "source": [
    "a = ratings['anime_id'].unique()\n",
    "a.sort()\n",
    "a"
   ]
  },
  {
   "cell_type": "markdown",
   "metadata": {},
   "source": [
    "Indeed, id needs only be unique to fulfill its categorical purpose, and theres no technical need to adhere to a non-skipped mapping of id. So its technically plausible to proceed to the modelling with the current dataset. However, for the sake of better fitting the matrix analogy in matrix factorization, we change the ids to a non-skipped integer mapping such that one can interpret a user_id of i and an anime_id of j as the ith row and jth column of the feedback matrix respectively."
   ]
  },
  {
   "cell_type": "code",
   "execution_count": 14,
   "metadata": {},
   "outputs": [
    {
     "data": {
      "text/html": [
       "<div>\n",
       "<style scoped>\n",
       "    .dataframe tbody tr th:only-of-type {\n",
       "        vertical-align: middle;\n",
       "    }\n",
       "\n",
       "    .dataframe tbody tr th {\n",
       "        vertical-align: top;\n",
       "    }\n",
       "\n",
       "    .dataframe thead th {\n",
       "        text-align: right;\n",
       "    }\n",
       "</style>\n",
       "<table border=\"1\" class=\"dataframe\">\n",
       "  <thead>\n",
       "    <tr style=\"text-align: right;\">\n",
       "      <th></th>\n",
       "      <th>user_id</th>\n",
       "      <th>Username</th>\n",
       "      <th>anime_id</th>\n",
       "      <th>Anime Title</th>\n",
       "      <th>rating</th>\n",
       "    </tr>\n",
       "  </thead>\n",
       "  <tbody>\n",
       "    <tr>\n",
       "      <th>0</th>\n",
       "      <td>1</td>\n",
       "      <td>Xinil</td>\n",
       "      <td>1</td>\n",
       "      <td>One Piece</td>\n",
       "      <td>9</td>\n",
       "    </tr>\n",
       "    <tr>\n",
       "      <th>1</th>\n",
       "      <td>1</td>\n",
       "      <td>Xinil</td>\n",
       "      <td>2</td>\n",
       "      <td>.hack//Sign</td>\n",
       "      <td>7</td>\n",
       "    </tr>\n",
       "    <tr>\n",
       "      <th>2</th>\n",
       "      <td>1</td>\n",
       "      <td>Xinil</td>\n",
       "      <td>3</td>\n",
       "      <td>A Kite</td>\n",
       "      <td>5</td>\n",
       "    </tr>\n",
       "    <tr>\n",
       "      <th>3</th>\n",
       "      <td>1</td>\n",
       "      <td>Xinil</td>\n",
       "      <td>4</td>\n",
       "      <td>Aa! Megami-sama!</td>\n",
       "      <td>8</td>\n",
       "    </tr>\n",
       "    <tr>\n",
       "      <th>4</th>\n",
       "      <td>1</td>\n",
       "      <td>Xinil</td>\n",
       "      <td>5</td>\n",
       "      <td>Aa! Megami-sama! Movie</td>\n",
       "      <td>8</td>\n",
       "    </tr>\n",
       "    <tr>\n",
       "      <th>...</th>\n",
       "      <td>...</td>\n",
       "      <td>...</td>\n",
       "      <td>...</td>\n",
       "      <td>...</td>\n",
       "      <td>...</td>\n",
       "    </tr>\n",
       "    <tr>\n",
       "      <th>24325186</th>\n",
       "      <td>269934</td>\n",
       "      <td>Oblongata</td>\n",
       "      <td>3356</td>\n",
       "      <td>R-15</td>\n",
       "      <td>3</td>\n",
       "    </tr>\n",
       "    <tr>\n",
       "      <th>24325187</th>\n",
       "      <td>269934</td>\n",
       "      <td>Oblongata</td>\n",
       "      <td>210</td>\n",
       "      <td>Tenjou Tenge</td>\n",
       "      <td>6</td>\n",
       "    </tr>\n",
       "    <tr>\n",
       "      <th>24325188</th>\n",
       "      <td>269935</td>\n",
       "      <td>JuunanaSai</td>\n",
       "      <td>244</td>\n",
       "      <td>Death Note</td>\n",
       "      <td>9</td>\n",
       "    </tr>\n",
       "    <tr>\n",
       "      <th>24325189</th>\n",
       "      <td>269935</td>\n",
       "      <td>JuunanaSai</td>\n",
       "      <td>38</td>\n",
       "      <td>Elfen Lied</td>\n",
       "      <td>10</td>\n",
       "    </tr>\n",
       "    <tr>\n",
       "      <th>24325190</th>\n",
       "      <td>269935</td>\n",
       "      <td>JuunanaSai</td>\n",
       "      <td>434</td>\n",
       "      <td>Gosick</td>\n",
       "      <td>10</td>\n",
       "    </tr>\n",
       "  </tbody>\n",
       "</table>\n",
       "<p>24177139 rows × 5 columns</p>\n",
       "</div>"
      ],
      "text/plain": [
       "          user_id    Username  anime_id             Anime Title  rating\n",
       "0               1       Xinil         1               One Piece       9\n",
       "1               1       Xinil         2             .hack//Sign       7\n",
       "2               1       Xinil         3                  A Kite       5\n",
       "3               1       Xinil         4        Aa! Megami-sama!       8\n",
       "4               1       Xinil         5  Aa! Megami-sama! Movie       8\n",
       "...           ...         ...       ...                     ...     ...\n",
       "24325186   269934   Oblongata      3356                    R-15       3\n",
       "24325187   269934   Oblongata       210            Tenjou Tenge       6\n",
       "24325188   269935  JuunanaSai       244              Death Note       9\n",
       "24325189   269935  JuunanaSai        38              Elfen Lied      10\n",
       "24325190   269935  JuunanaSai       434                  Gosick      10\n",
       "\n",
       "[24177139 rows x 5 columns]"
      ]
     },
     "execution_count": 14,
     "metadata": {},
     "output_type": "execute_result"
    }
   ],
   "source": [
    "ratings['user_id'] = ratings['user_id'].map({old: new + 1 for new, old in enumerate(ratings['user_id'].unique())})\n",
    "ratings['anime_id'] = ratings['anime_id'].map({old: new + 1 for new, old in enumerate(ratings['anime_id'].unique())})\n",
    "ratings"
   ]
  },
  {
   "cell_type": "markdown",
   "metadata": {},
   "source": [
    "Much better! (I Cope) "
   ]
  },
  {
   "cell_type": "markdown",
   "metadata": {},
   "source": [
    "Now onto the modelling"
   ]
  },
  {
   "cell_type": "code",
   "execution_count": 15,
   "metadata": {},
   "outputs": [],
   "source": [
    "from torch.utils.data import Dataset, DataLoader\n",
    "\n",
    "class dfDataset(Dataset):\n",
    "    def __init__(self, df):\n",
    "        self.df = df\n",
    "\n",
    "    def __len__(self):\n",
    "        return len(self.df)\n",
    "\n",
    "    def __getitem__(self, idx):\n",
    "        user_id = self.df.iloc[idx, 0]\n",
    "        anime_id = self.df.iloc[idx, 2]\n",
    "        rating = self.df.iloc[idx, 4]\n",
    "        return [user_id, anime_id, rating]\n",
    "    \n",
    "ratings_dataset = dfDataset(ratings)\n",
    "ratings_dataloader = DataLoader(ratings_dataset, batch_size=8192, shuffle=True) # more on the batch size ltr"
   ]
  },
  {
   "cell_type": "code",
   "execution_count": 16,
   "metadata": {},
   "outputs": [
    {
     "data": {
      "text/plain": [
       "24177139"
      ]
     },
     "execution_count": 16,
     "metadata": {},
     "output_type": "execute_result"
    }
   ],
   "source": [
    "len(ratings)"
   ]
  },
  {
   "cell_type": "code",
   "execution_count": 17,
   "metadata": {},
   "outputs": [],
   "source": [
    "import torch\n",
    "import torch.nn as nn\n",
    "from torch import sigmoid\n",
    "\n",
    "class MFModel(nn.Module):\n",
    "    def __init__(self, n_users, n_anime, n_dim=20):\n",
    "        super().__init__()\n",
    "        self.user_embs = nn.Embedding(n_users, n_dim, sparse=True)\n",
    "        self.user_embs_bias = nn.Embedding(n_users, 1, sparse=True)\n",
    "        self.anime_embs = nn.Embedding(n_anime, n_dim, sparse=True)\n",
    "        self.anime_embs_bias = nn.Embedding(n_anime, 1, sparse=True)\n",
    "        \n",
    "    def forward(self, user, anime):\n",
    "        return sigmoid((self.user_embs(user-1) * self.anime_embs(anime-1)).sum(1)) + self.user_embs_bias(user-1).squeeze() + self.anime_embs_bias(anime-1).squeeze()\n",
    "    \n",
    "model = MFModel(len(ratings['user_id'].unique()), len(ratings['anime_id'].unique()))\n"
   ]
  },
  {
   "cell_type": "markdown",
   "metadata": {},
   "source": [
    "While waiting for my crappy pc to train the model, i was curious whether increasing the batch size would lead to faster training with linear algebra being more computationally efficient and what not, and if so to what extent. So i set a few variables for timing the difference(which ive commented out for the sake of output brevity) but the end result is that: in terms of the time it takes to do a training loop, larger batches are overwhelmingly more time efficient, like an eyeball estimate of 0.005s/loop with a 1024 batch size vs 0.07s=0.005*14/loop with a 65536=1024\\*64 batch size. However, because the data fetching takes roughly a linear amount of time w/ respect to number of rows fetched, the time taken becomes predominantly contributed by data fetching as batch size is increased and hence the difference from training loop time becomes quickly irrelevant. tldr, it doesnt bcs O(n + logn) = O(n)"
   ]
  },
  {
   "cell_type": "code",
   "execution_count": 18,
   "metadata": {},
   "outputs": [
    {
     "name": "stdout",
     "output_type": "stream",
     "text": [
      "torch.Size([8192])\n"
     ]
    }
   ],
   "source": [
    "for batch in ratings_dataloader:\n",
    "    print(batch[0].shape)\n",
    "    break"
   ]
  },
  {
   "cell_type": "code",
   "execution_count": 19,
   "metadata": {},
   "outputs": [
    {
     "name": "stderr",
     "output_type": "stream",
     "text": [
      "C:\\Users\\Lim Jia Hui\\AppData\\Local\\Temp\\ipykernel_29820\\3202941603.py:12: UserWarning: To copy construct from a tensor, it is recommended to use sourceTensor.clone().detach() or sourceTensor.clone().detach().requires_grad_(True), rather than torch.tensor(sourceTensor).\n",
      "  rating = torch.tensor(rating, dtype=torch.float32)\n"
     ]
    },
    {
     "name": "stdout",
     "output_type": "stream",
     "text": [
      "3.2623353004455566\n",
      "2.0558974742889404\n",
      "1.793753981590271\n",
      "1.7959517240524292\n",
      "1.6500691175460815\n"
     ]
    }
   ],
   "source": [
    "import time\n",
    "optimizer = torch.optim.SparseAdam(model.parameters(), lr=0.005)\n",
    "criterion = nn.MSELoss()\n",
    "#starttwo = 0\n",
    "for epoch in range(5):\n",
    "    for batch in ratings_dataloader:\n",
    "        #start = time.time()\n",
    "        #endtwo = time.time()\n",
    "        #print(f'Data fetch time = {endtwo-starttwo}')\n",
    "        optimizer.zero_grad()\n",
    "        user, anime, rating = batch\n",
    "        rating = torch.tensor(rating, dtype=torch.float32)\n",
    "        pred = model(user, anime)\n",
    "        loss = criterion(pred, rating)\n",
    "        loss.backward()\n",
    "        optimizer.step()\n",
    "        #end = time.time()\n",
    "        #print(f'Backward pass time = {end-start}')\n",
    "        #starttwo = time.time()\n",
    "    print(loss.item())\n",
    "    torch.save(model.state_dict(), 'model_weights.pth'+str(epoch))"
   ]
  },
  {
   "cell_type": "markdown",
   "metadata": {},
   "source": [
    "Note that i didn't do a validation split here, which is mostly due to the dataset not having a convenient way of splitting while ensuring the train split would still have a 'sufficient' representation of the rating. One way to do said splitting would be to split by date, and for serious applications it would be very much beneficial to do said validation split by date. "
   ]
  },
  {
   "cell_type": "code",
   "execution_count": 20,
   "metadata": {},
   "outputs": [],
   "source": [
    "import numpy as np\n",
    "def matrix_fac_recommender(user_id, n_recs, ratings):\n",
    "    np.random.seed(42)\n",
    "\n",
    "    user_ratings = ratings[ratings['user_id'] == user_id]\n",
    "    anime_rated = user_ratings['Anime Title'].unique()\n",
    "    anime_not_rated = ratings[-ratings['Anime Title'].isin(anime_rated)].drop_duplicates(subset=['Anime Title'])\n",
    "    recs = anime_not_rated.loc[:, ['Anime Title', 'anime_id']].sample(n_recs, replace=False, random_state=42).set_index('Anime Title')['anime_id'].to_dict() # how many recommendations to make\n",
    "    predicted_ratings = []\n",
    "    \n",
    "    for rec in recs.values():\n",
    "        predicted_ratings.append(model(torch.tensor(user_id).unsqueeze(dim=0), torch.tensor(rec).unsqueeze(dim=0)).item())\n",
    "\n",
    "    sorted_recs_with_pred_ratings = sorted(dict(zip(recs.keys(), predicted_ratings)).items(), key=lambda x: x[1], reverse=True)\n",
    "\n",
    "    return sorted_recs_with_pred_ratings"
   ]
  },
  {
   "cell_type": "code",
   "execution_count": 21,
   "metadata": {},
   "outputs": [
    {
     "data": {
      "text/html": [
       "<div>\n",
       "<style scoped>\n",
       "    .dataframe tbody tr th:only-of-type {\n",
       "        vertical-align: middle;\n",
       "    }\n",
       "\n",
       "    .dataframe tbody tr th {\n",
       "        vertical-align: top;\n",
       "    }\n",
       "\n",
       "    .dataframe thead th {\n",
       "        text-align: right;\n",
       "    }\n",
       "</style>\n",
       "<table border=\"1\" class=\"dataframe\">\n",
       "  <thead>\n",
       "    <tr style=\"text-align: right;\">\n",
       "      <th></th>\n",
       "      <th>Anime Title</th>\n",
       "      <th>rating</th>\n",
       "    </tr>\n",
       "  </thead>\n",
       "  <tbody>\n",
       "    <tr>\n",
       "      <th>238</th>\n",
       "      <td>Azumanga Daiou The Animation</td>\n",
       "      <td>6</td>\n",
       "    </tr>\n",
       "  </tbody>\n",
       "</table>\n",
       "</div>"
      ],
      "text/plain": [
       "                      Anime Title  rating\n",
       "238  Azumanga Daiou The Animation       6"
      ]
     },
     "execution_count": 21,
     "metadata": {},
     "output_type": "execute_result"
    }
   ],
   "source": [
    "ratings[ratings['user_id'] == 1].loc[ratings['Anime Title'] == 'Azumanga Daiou The Animation', ['Anime Title', 'rating']]"
   ]
  },
  {
   "cell_type": "code",
   "execution_count": 22,
   "metadata": {},
   "outputs": [
    {
     "data": {
      "text/plain": [
       "[('Hana yori Dango', 7.775703430175781),\n",
       " ('City Hunter: Kinkyuu Namachuukei!? Kyouakuhan Saeba Ryou no Saigo',\n",
       "  7.522305488586426),\n",
       " ('Mazinkaiser: Shitou! Ankoku Dai Shogun', 7.086770057678223),\n",
       " ('Koi wa Sekai Seifuku no Ato de', 7.007019996643066),\n",
       " ('Bleach: The Sealed Sword Frenzy', 6.788742542266846),\n",
       " ('Penguin Musume♥Heart', 6.640021324157715),\n",
       " ('Narue no Sekai', 6.462850570678711),\n",
       " ('Survival', 6.2981719970703125),\n",
       " ('Shokugeki no Souma: Gou no Sara', 6.217508792877197),\n",
       " ('Shin Getter Robo tai Neo Getter Robo', 6.141360282897949),\n",
       " ('Transformers Superlink', 6.00144100189209),\n",
       " ('Konnichiwa Anne: Before Green Gables', 5.788362503051758),\n",
       " ('Shin Mitsubachi Maya no Bouken', 5.187295913696289),\n",
       " ('Heartwork: Symphony of Destruction', 5.160801887512207),\n",
       " ('Rokumon Tengai Mon Colle Knights', 5.035014629364014),\n",
       " ('Maid of the Dead', 5.001959800720215),\n",
       " ('Yume no Kakera', 4.022702217102051),\n",
       " ('Akebi no Hana: Maho', 3.9003677368164062),\n",
       " ('Vampire', 3.725501775741577),\n",
       " ('Fella Hame Lips', 3.4495434761047363)]"
      ]
     },
     "execution_count": 22,
     "metadata": {},
     "output_type": "execute_result"
    }
   ],
   "source": [
    "matrix_fac_recommender(1, 20, ratings)"
   ]
  },
  {
   "cell_type": "markdown",
   "metadata": {},
   "source": [
    "We see that theres greater variation in the ratings score, which would indicate a possibly more accurate rating prediction. We see that once more the recommendations are mostly shounen-style, with now a more pronounced preference for action/adventure-themed(and perhaps some \"Cute Girls Doing Cute Things\" themed) anime and less so for adult/romance themed anime"
   ]
  },
  {
   "cell_type": "markdown",
   "metadata": {},
   "source": [
    "### References"
   ]
  },
  {
   "cell_type": "markdown",
   "metadata": {},
   "source": [
    "https://www.kaggle.com/code/jhoward/collaborative-filtering-deep-dive#Collaborative-Filtering-from-Scratch\n",
    "https://www.kaggle.com/code/ibtesama/getting-started-with-a-movie-recommendation-system#Collaborative-Filtering\n",
    "https://www.geeksforgeeks.org/item-to-item-based-collaborative-filtering/\n",
    "https://www.kaggle.com/code/rounakbanik/movie-recommender-systems\n"
   ]
  }
 ],
 "metadata": {
  "kernelspec": {
   "display_name": "Python 3",
   "language": "python",
   "name": "python3"
  },
  "language_info": {
   "codemirror_mode": {
    "name": "ipython",
    "version": 3
   },
   "file_extension": ".py",
   "mimetype": "text/x-python",
   "name": "python",
   "nbconvert_exporter": "python",
   "pygments_lexer": "ipython3",
   "version": "3.9.4"
  }
 },
 "nbformat": 4,
 "nbformat_minor": 2
}
